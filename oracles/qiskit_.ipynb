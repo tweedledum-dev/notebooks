{
 "cells": [
  {
   "cell_type": "code",
   "execution_count": 14,
   "id": "inappropriate-heating",
   "metadata": {},
   "outputs": [
    {
     "name": "stdout",
     "output_type": "stream",
     "text": [
      "     ┌────────┐\n",
      "q_0: ┤ RX(-π) ├\n",
      "     └───┬────┘\n",
      "q_1: ────■─────\n",
      "         │     \n",
      "q_2: ────■─────\n",
      "               \n"
     ]
    }
   ],
   "source": [
    "from tweedledum.operators import Rx\n",
    "import math\n",
    "circuit = Circuit()\n",
    "q = [circuit.create_qubit() for i in range(3)]\n",
    "circuit.apply_operator(Rx(-math.pi), [q[2], q[1], q[0]])\n",
    "\n",
    "qiskit_circuit = tweedledum_to_qiskit_qc(circuit)\n",
    "print(qiskit_circuit)"
   ]
  },
  {
   "cell_type": "code",
   "execution_count": 18,
   "id": "posted-factory",
   "metadata": {},
   "outputs": [
    {
     "name": "stdout",
     "output_type": "stream",
     "text": [
      "     ┌────────────┐┌───┐┌────────────┐┌───┐┌────────────────┐┌────────────┐»\n",
      "q_0: ┤ U(0,0,π/2) ├┤ X ├┤ U(π/4,0,0) ├┤ X ├┤ U(-π/4,-π/2,0) ├┤ U(0,0,π/2) ├»\n",
      "     └┬──────────┬┘└─┬─┘└────────────┘└─┬─┘└────────────────┘└────────────┘»\n",
      "q_1: ─┤ U(0,0,0) ├───■──────────────────■──────────■───────────────────────»\n",
      "      └──────────┘                               ┌─┴─┐        ┌──────────┐ »\n",
      "q_2: ────────────────────────────────────────────┤ X ├────────┤ U(0,0,0) ├─»\n",
      "                                                 └───┘        └──────────┘ »\n",
      "«     ┌───┐┌─────────────┐┌───┐┌───────────────┐┌────────────┐┌───┐»\n",
      "«q_0: ┤ X ├┤ U(-π/4,0,0) ├┤ X ├┤ U(π/4,-π/2,0) ├┤ U(0,0,π/2) ├┤ X ├»\n",
      "«     └─┬─┘└─────────────┘└─┬─┘└───────────────┘└────────────┘└─┬─┘»\n",
      "«q_1: ──┼───────────────────┼──────────■────────────────────────┼──»\n",
      "«       │                   │        ┌─┴─┐       ┌──────────┐   │  »\n",
      "«q_2: ──■───────────────────■────────┤ X ├───────┤ U(0,0,0) ├───■──»\n",
      "«                                    └───┘       └──────────┘      »\n",
      "«     ┌────────────┐┌───┐┌────────────────┐\n",
      "«q_0: ┤ U(π/4,0,0) ├┤ X ├┤ U(-π/4,-π/2,0) ├\n",
      "«     └────────────┘└─┬─┘└────────────────┘\n",
      "«q_1: ────────────────┼────────────────────\n",
      "«                     │                    \n",
      "«q_2: ────────────────■────────────────────\n",
      "«                                          \n"
     ]
    }
   ],
   "source": [
    "pass_ = Unroller(['u', 'cx'])\n",
    "pm = PassManager(pass_)\n",
    "qiskit_circuit = pm.run(qiskit_circuit) \n",
    "print(qiskit_circuit)"
   ]
  },
  {
   "cell_type": "code",
   "execution_count": null,
   "id": "fundamental-membrane",
   "metadata": {},
   "outputs": [],
   "source": []
  }
 ],
 "metadata": {
  "kernelspec": {
   "display_name": "Python 3",
   "language": "python",
   "name": "python3"
  },
  "language_info": {
   "codemirror_mode": {
    "name": "ipython",
    "version": 3
   },
   "file_extension": ".py",
   "mimetype": "text/x-python",
   "name": "python",
   "nbconvert_exporter": "python",
   "pygments_lexer": "ipython3",
   "version": "3.9.2"
  }
 },
 "nbformat": 4,
 "nbformat_minor": 5
}
