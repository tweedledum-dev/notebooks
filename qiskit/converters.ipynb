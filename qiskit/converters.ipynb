{
 "cells": [
  {
   "cell_type": "code",
   "execution_count": 6,
   "id": "normal-mercury",
   "metadata": {},
   "outputs": [
    {
     "output_type": "stream",
     "name": "stdout",
     "text": [
      "       ╭───╮╭───╮╭─────╮╭───╮╭───╮╭───╮╭─────╮╭───╮╭───╮╭───╮               »\n__q2 : ┤ h ├┤ x ├┤ tdg ├┤ x ├┤ t ├┤ x ├┤ tdg ├┤ x ├┤ t ├┤ h ├───────────────»\n       ╰───╯╰─┬─╯╰─────╯╰─┬─╯╰───╯╰─┬─╯╰─────╯╰─┬─╯├───┤├───┤╭─────╮╭───╮   »\n__q1 : ───────●───────────┼─────────●───────────┼──┤ t ├┤ x ├┤ tdg ├┤ x ├───»\n                          │                     │  ╰───╯╰─┬─╯╰─────╯╰─┬─╯╭─╮»\n__q0 : ───────────────────●─────────────────────●─────────●───┤ t ├───●──┤m├»\n                                                              ╰───╯      ╰╥╯»\n       ═══════════════════════════════════════════════════════════════════V═»\n                                                                          0 »\n\n################################################################################\n\n   ╭─╮\n───┤m├\n╭─╮╰╥╯\n┤m├─╫─\n╰╥╯ ║ \n─╫──╫─\n ║  ║ \n═V══V═\n 1  2 \n\n"
     ]
    }
   ],
   "source": [
    "import math\n",
    "from tweedledum.ir import Circuit\n",
    "from tweedledum.operators import H, X, T, Tdg, P, Measure\n",
    "from tweedledum.qiskit import from_qiskit, to_qiskit\n",
    "\n",
    "def toffoli():\n",
    "    circuit = Circuit()\n",
    "    qubits = list()\n",
    "    qubits.append(circuit.create_qubit())\n",
    "    qubits.append(circuit.create_qubit())\n",
    "    qubits.append(circuit.create_qubit())\n",
    "    cbits = list()\n",
    "    cbits.append(circuit.create_cbit())\n",
    "    cbits.append(circuit.create_cbit())\n",
    "    cbits.append(circuit.create_cbit())\n",
    "\n",
    "    circuit.apply_operator(H(), [qubits[2]])\n",
    "    circuit.apply_operator(X(), [qubits[1], qubits[2]])\n",
    "    circuit.apply_operator(Tdg(), [qubits[2]])\n",
    "    circuit.apply_operator(X(), [qubits[0], qubits[2]])\n",
    "    circuit.apply_operator(T(), [qubits[2]])\n",
    "    circuit.apply_operator(X(), [qubits[1], qubits[2]])\n",
    "    circuit.apply_operator(Tdg(), [qubits[2]])\n",
    "    circuit.apply_operator(X(), [qubits[0], qubits[2]])\n",
    "    circuit.apply_operator(T(), [qubits[1]])\n",
    "    circuit.apply_operator(T(), [qubits[2]])\n",
    "    circuit.apply_operator(H(), [qubits[2]])\n",
    "    circuit.apply_operator(X(), [qubits[0], qubits[1]])\n",
    "    circuit.apply_operator(T(), [qubits[0]])\n",
    "    circuit.apply_operator(Tdg(), [qubits[1]])\n",
    "    circuit.apply_operator(X(), [qubits[0], qubits[1]])\n",
    "    circuit.apply_operator(Measure(), [qubits[0]], [cbits[0]])\n",
    "    circuit.apply_operator(Measure(), [qubits[1]], [cbits[1]])\n",
    "    circuit.apply_operator(Measure(), [qubits[2]], [cbits[2]])\n",
    "    return circuit\n",
    "\n",
    "tweedledum_circuit = toffoli()\n",
    "print(tweedledum_circuit)"
   ]
  },
  {
   "cell_type": "code",
   "execution_count": 7,
   "id": "stopped-copying",
   "metadata": {},
   "outputs": [
    {
     "output_type": "stream",
     "name": "stdout",
     "text": [
      "                                                       ┌───┐      ┌─┐   \nq_0: ───────────────────■─────────────────────■────■───┤ T ├───■──┤M├───\n                        │             ┌───┐   │  ┌─┴─┐┌┴───┴┐┌─┴─┐└╥┘┌─┐\nq_1: ───────■───────────┼─────────■───┤ T ├───┼──┤ X ├┤ TDG ├┤ X ├─╫─┤M├\n     ┌───┐┌─┴─┐┌─────┐┌─┴─┐┌───┐┌─┴─┐┌┴───┴┐┌─┴─┐├───┤└┬───┬┘└┬─┬┘ ║ └╥┘\nq_2: ┤ H ├┤ X ├┤ TDG ├┤ X ├┤ T ├┤ X ├┤ TDG ├┤ X ├┤ T ├─┤ H ├──┤M├──╫──╫─\n     └───┘└───┘└─────┘└───┘└───┘└───┘└─────┘└───┘└───┘ └───┘  └╥┘  ║  ║ \nc: 3/══════════════════════════════════════════════════════════╩═══╩══╩═\n                                                               2   0  1 \n"
     ]
    }
   ],
   "source": [
    "qiskit_circuit = to_qiskit(tweedledum_circuit, circuit_type='gatelist')\n",
    "print(qiskit_circuit)"
   ]
  },
  {
   "cell_type": "code",
   "execution_count": 8,
   "id": "permanent-hours",
   "metadata": {},
   "outputs": [
    {
     "output_type": "stream",
     "name": "stdout",
     "text": [
      "       ╭───╮╭───╮╭─────╮╭───╮╭───╮╭───╮╭─────╮╭───╮╭───╮╭───╮               »\n__q2 : ┤ h ├┤ x ├┤ tdg ├┤ x ├┤ t ├┤ x ├┤ tdg ├┤ x ├┤ t ├┤ h ├───────────────»\n       ╰───╯╰─┬─╯╰─────╯╰─┬─╯╰───╯╰─┬─╯╰─────╯╰─┬─╯├───┤├───┤╭─────╮╭───╮   »\n__q1 : ───────●───────────┼─────────●───────────┼──┤ t ├┤ x ├┤ tdg ├┤ x ├───»\n                          │                     │  ╰───╯╰─┬─╯╰─────╯╰─┬─╯╭─╮»\n__q0 : ───────────────────●─────────────────────●─────────●───┤ t ├───●──┤m├»\n                                                              ╰───╯      ╰╥╯»\n       ═══════════════════════════════════════════════════════════════════V═»\n                                                                          0 »\n\n################################################################################\n\n   ╭─╮\n───┤m├\n╭─╮╰╥╯\n┤m├─╫─\n╰╥╯ ║ \n─╫──╫─\n ║  ║ \n═V══V═\n 1  2 \n\n"
     ]
    }
   ],
   "source": [
    "tweedledum_circuit = from_qiskit(qiskit_circuit)\n",
    "print(tweedledum_circuit)"
   ]
  }
 ],
 "metadata": {
  "kernelspec": {
   "name": "python3",
   "display_name": "Python 3.9.5 64-bit ('tweedledum-dev': venv)"
  },
  "language_info": {
   "codemirror_mode": {
    "name": "ipython",
    "version": 3
   },
   "file_extension": ".py",
   "mimetype": "text/x-python",
   "name": "python",
   "nbconvert_exporter": "python",
   "pygments_lexer": "ipython3",
   "version": "3.9.5"
  },
  "interpreter": {
   "hash": "3c31f8d0e23cf389117e887c2050f7b8098d966c92d4d5c3531b3a9f5327ccdf"
  }
 },
 "nbformat": 4,
 "nbformat_minor": 5
}