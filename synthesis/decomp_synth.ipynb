{
 "cells": [
  {
   "cell_type": "code",
   "execution_count": 1,
   "id": "realistic-correlation",
   "metadata": {},
   "outputs": [
    {
     "output_type": "stream",
     "name": "stdout",
     "text": [
      "       ╭─────────────╮╭─────────────╮╭─────────────╮               \n__q2 : ┤             ├┤             ├┤             ├───────────────\n       │             ││             ││             │╭─────────────╮\n__q1 : ┤ truth_table ├┤ truth_table ├┤ truth_table ├┤             ├\n       │             ││             ││             ││ truth_table │\n__q0 : ┤             ├┤             ├┤             ├┤             ├\n       ╰─────────────╯╰─────────────╯╰─────────────╯╰─────────────╯\n\n"
     ]
    }
   ],
   "source": [
    "from tweedledum.synthesis import decomp_synth\n",
    "\n",
    "circuit = decomp_synth([0, 2, 3, 5, 7, 1, 4, 6])\n",
    "print(circuit)"
   ]
  },
  {
   "cell_type": "code",
   "execution_count": 2,
   "id": "brown-appeal",
   "metadata": {},
   "outputs": [],
   "source": [
    "# TODO: Method to extract the truth table from the TruthTable operator!\n",
    "from tweedledum.synthesis import pkrm_synth\n",
    "from tweedledum.passes import shallow_duplicate\n",
    "\n",
    "decomp = shallow_duplicate(circuit)\n",
    "for inst in circuit:\n",
    "    if inst.kind() == 'ext.truth_table':\n",
    "        pkrm_synth(decomp, inst.qubits(), inst.cbits(), inst)"
   ]
  },
  {
   "cell_type": "code",
   "execution_count": 3,
   "metadata": {},
   "outputs": [
    {
     "output_type": "stream",
     "name": "stdout",
     "text": [
      "            ╭───╮               \n__q2 : ──●──┤ x ├──◯────●───────\n       ╭─┴─╮╰─┬─╯╭─┴─╮╭─┴─╮     \n__q1 : ┤ x ├──●──┤ x ├┤ x ├──●──\n       ╰─┬─╯  │  ╰─┬─╯╰───╯╭─┴─╮\n__q0 : ──●────●────●───────┤ x ├\n                           ╰───╯\n\n"
     ]
    }
   ],
   "source": [
    "print(decomp)"
   ]
  },
  {
   "cell_type": "code",
   "execution_count": null,
   "metadata": {},
   "outputs": [],
   "source": []
  }
 ],
 "metadata": {
  "kernelspec": {
   "name": "python395jvsc74a57bd03c31f8d0e23cf389117e887c2050f7b8098d966c92d4d5c3531b3a9f5327ccdf",
   "display_name": "Python 3.9.5 64-bit ('tweedledum-dev': venv)"
  },
  "language_info": {
   "codemirror_mode": {
    "name": "ipython",
    "version": 3
   },
   "file_extension": ".py",
   "mimetype": "text/x-python",
   "name": "python",
   "nbconvert_exporter": "python",
   "pygments_lexer": "ipython3",
   "version": "3.9.5"
  }
 },
 "nbformat": 4,
 "nbformat_minor": 5
}