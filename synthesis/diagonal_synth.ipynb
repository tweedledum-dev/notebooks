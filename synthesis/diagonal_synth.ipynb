{
 "cells": [
  {
   "cell_type": "code",
   "execution_count": 1,
   "id": "identical-bhutan",
   "metadata": {},
   "outputs": [],
   "source": [
    "import math\n",
    "from tweedledum.synthesis import diagonal_synth"
   ]
  },
  {
   "cell_type": "code",
   "execution_count": 2,
   "metadata": {},
   "outputs": [
    {
     "output_type": "stream",
     "name": "stdout",
     "text": [
      "       ╭───╮                                                  \n__q2 : ┤ p ├──●───────────────────●──────────────●─────────●──\n       ├───┤  │                   │            ╭─┴─╮╭───╮╭─┴─╮\n__q1 : ┤ p ├──┼─────────●─────────┼─────────●──┤ x ├┤ p ├┤ x ├\n       ├───┤╭─┴─╮╭───╮╭─┴─╮╭───╮╭─┴─╮╭───╮╭─┴─╮╰───╯╰───╯╰───╯\n__q0 : ┤ p ├┤ x ├┤ p ├┤ x ├┤ p ├┤ x ├┤ p ├┤ x ├───────────────\n       ╰───╯╰───╯╰───╯╰───╯╰───╯╰───╯╰───╯╰───╯               \n\n"
     ]
    }
   ],
   "source": [
    "angles = [0.0, 0.0, 0.0, 0.0, 0.0, 0.0, 0.0, math.pi]\n",
    "circuit = diagonal_synth(angles)\n",
    "print(circuit)"
   ]
  },
  {
   "cell_type": "code",
   "execution_count": 3,
   "id": "weighted-fitting",
   "metadata": {},
   "outputs": [
    {
     "output_type": "stream",
     "name": "stdout",
     "text": [
      "       ╭───╮╭───╮╭───╮╭───╮╭───╮╭───╮╭───╮╭───╮\n__q2 : ┤ p ├┤ x ├┤ p ├┤ x ├┤ p ├┤ x ├┤ p ├┤ x ├\n       ╰───╯╰─┬─╯╰───╯╰─┬─╯╰───╯╰─┬─╯╰───╯╰─┬─╯\n__q1 : ───────┼─────────●─────────┼─────────●──\n              │                   │            \n__q0 : ───────●───────────────────●────────────\n                                               \n\n"
     ]
    }
   ],
   "source": [
    "angles = [0.0, 0.0, 0.0, 0.0, 0.0, 0.0, -math.pi, math.pi]\n",
    "circuit = diagonal_synth(angles)\n",
    "print(circuit)"
   ]
  },
  {
   "cell_type": "code",
   "execution_count": null,
   "id": "native-correlation",
   "metadata": {},
   "outputs": [],
   "source": []
  }
 ],
 "metadata": {
  "kernelspec": {
   "name": "python3",
   "display_name": "Python 3.9.5 64-bit ('tweedledum-dev': venv)"
  },
  "language_info": {
   "codemirror_mode": {
    "name": "ipython",
    "version": 3
   },
   "file_extension": ".py",
   "mimetype": "text/x-python",
   "name": "python",
   "nbconvert_exporter": "python",
   "pygments_lexer": "ipython3",
   "version": "3.9.5"
  },
  "interpreter": {
   "hash": "3c31f8d0e23cf389117e887c2050f7b8098d966c92d4d5c3531b3a9f5327ccdf"
  }
 },
 "nbformat": 4,
 "nbformat_minor": 5
}